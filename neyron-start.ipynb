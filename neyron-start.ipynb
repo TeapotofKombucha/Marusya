{
 "cells": [
  {
   "cell_type": "code",
   "execution_count": 14,
   "metadata": {},
   "outputs": [],
   "source": [
    "from keras.models import Sequential\n",
    "from keras.layers import Dense, Embedding, MaxPooling1D, Conv1D, GlobalMaxPooling1D, Dropout, LSTM, GRU\n",
    "from keras import utils\n",
    "from keras.utils import np_utils\n",
    "from keras.preprocessing.sequence import pad_sequences\n",
    "from keras.preprocessing.text import Tokenizer\n",
    "from keras.callbacks import ModelCheckpoint\n",
    "import pandas as pd\n",
    "import numpy as np\n",
    "import matplotlib.pyplot as plt"
   ]
  },
  {
   "cell_type": "code",
   "execution_count": 19,
   "metadata": {},
   "outputs": [
    {
     "name": "stdout",
     "output_type": "stream",
     "text": [
      "                                                  phrase  \\\n",
      "0                                          ну куда пошли   \n",
      "1               а сколько будет миллиард долларов рублей   \n",
      "2      марусь включи пожалуйста елена вальяк гипноз д...   \n",
      "3                 да о том что я тебя очень уважаю люблю   \n",
      "4                                        детскую песенку   \n",
      "...                                                  ...   \n",
      "28896                                    так где мой нож   \n",
      "28897                                             дальше   \n",
      "28898                          маруся я очень тебя люблю   \n",
      "28899                    голову вас зафиксировала камера   \n",
      "28900                                   что представляем   \n",
      "\n",
      "                                                 history  binary  \n",
      "0      [{\"user\": \"\", \"marusia\": \"\"}, {\"user\": \"\", \"ma...       1  \n",
      "1      [{\"user\": \"а сколько будет\", \"marusia\": \"Извин...       0  \n",
      "2      [{\"user\": \"маруся через десять минут будильник...       0  \n",
      "3      [{\"user\": \"\", \"marusia\": \"Если вам нужна помощ...       0  \n",
      "4      [{\"user\": \"\", \"marusia\": \"\"}, {\"user\": \"угадай...       0  \n",
      "...                                                  ...     ...  \n",
      "28896  [{\"user\": \"\", \"marusia\": \"\"}, {\"user\": \"ты уме...       1  \n",
      "28897  [{\"user\": \"\", \"marusia\": \"\"}, {\"user\": \"\", \"ma...       0  \n",
      "28898  [{\"user\": \"маруся очень очень я тебя люблю\", \"...       0  \n",
      "28899  [{\"user\": \"\", \"marusia\": \"\"}, {\"user\": \"ну дав...       1  \n",
      "28900  [{\"user\": \"ты вообще не можешь\", \"marusia\": \"В...       0  \n",
      "\n",
      "[28901 rows x 3 columns]\n"
     ]
    }
   ],
   "source": [
    "train = pd.read_table('train.tsv', sep='\\t', header=None, names=['phrase', 'history', 'binary'])\n",
    "\n",
    "print(train)"
   ]
  },
  {
   "cell_type": "code",
   "execution_count": null,
   "metadata": {},
   "outputs": [],
   "source": []
  },
  {
   "cell_type": "code",
   "execution_count": null,
   "metadata": {},
   "outputs": [],
   "source": []
  },
  {
   "cell_type": "code",
   "execution_count": null,
   "metadata": {},
   "outputs": [],
   "source": []
  },
  {
   "cell_type": "code",
   "execution_count": null,
   "metadata": {},
   "outputs": [],
   "source": []
  },
  {
   "cell_type": "code",
   "execution_count": null,
   "metadata": {},
   "outputs": [],
   "source": []
  },
  {
   "cell_type": "code",
   "execution_count": null,
   "metadata": {},
   "outputs": [],
   "source": []
  }
 ],
 "metadata": {
  "kernelspec": {
   "display_name": "Python 3.9.13 64-bit (microsoft store)",
   "language": "python",
   "name": "python3"
  },
  "language_info": {
   "codemirror_mode": {
    "name": "ipython",
    "version": 3
   },
   "file_extension": ".py",
   "mimetype": "text/x-python",
   "name": "python",
   "nbconvert_exporter": "python",
   "pygments_lexer": "ipython3",
   "version": "3.9.13"
  },
  "orig_nbformat": 4,
  "vscode": {
   "interpreter": {
    "hash": "4529aa749598bf5c8569445694a5567b9fb6a528a218d00cf5a01e646883f00e"
   }
  }
 },
 "nbformat": 4,
 "nbformat_minor": 2
}
